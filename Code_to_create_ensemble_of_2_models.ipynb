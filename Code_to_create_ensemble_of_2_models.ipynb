{
  "nbformat": 4,
  "nbformat_minor": 0,
  "metadata": {
    "colab": {
      "name": "Ensemble_and_LoadingandSavingFull2Models_Combine_13_5_21_ (4).ipynb",
      "provenance": [],
      "collapsed_sections": []
    },
    "kernelspec": {
      "display_name": "Python 3",
      "language": "python",
      "name": "python3"
    },
    "language_info": {
      "codemirror_mode": {
        "name": "ipython",
        "version": 3
      },
      "file_extension": ".py",
      "mimetype": "text/x-python",
      "name": "python",
      "nbconvert_exporter": "python",
      "pygments_lexer": "ipython3",
      "version": "3.8.7"
    },
    "latex_envs": {
      "LaTeX_envs_menu_present": true,
      "autoclose": false,
      "autocomplete": true,
      "bibliofile": "biblio.bib",
      "cite_by": "apalike",
      "current_citInitial": 1,
      "eqLabelWithNumbers": true,
      "eqNumInitial": 1,
      "hotkeys": {
        "equation": "Ctrl-E",
        "itemize": "Ctrl-I"
      },
      "labels_anchors": false,
      "latex_user_defs": false,
      "report_style_numbering": false,
      "user_envs_cfg": false
    },
    "toc": {
      "base_numbering": 1,
      "nav_menu": {},
      "number_sections": true,
      "sideBar": true,
      "skip_h1_title": false,
      "title_cell": "Table of Contents",
      "title_sidebar": "Contents",
      "toc_cell": false,
      "toc_position": {},
      "toc_section_display": true,
      "toc_window_display": false
    },
    "accelerator": "GPU"
  },
  "cells": [
    {
      "cell_type": "code",
      "metadata": {
        "id": "fusNkGWA9qF4",
        "colab": {
          "base_uri": "https://localhost:8080/"
        },
        "outputId": "557cdd37-27cb-499a-8aa4-3c1eff74e879"
      },
      "source": [
        "\n",
        "\n",
        "\n",
        "\n",
        "\n",
        "# Run this to install the appropriate tensorflow package\n",
        "!pip install tensorflow==2.2.0\n"
      ],
      "execution_count": null,
      "outputs": [
        {
          "output_type": "stream",
          "text": [
            "Collecting tensorflow==2.2.0\n",
            "\u001b[?25l  Downloading https://files.pythonhosted.org/packages/4c/1a/0d79814736cfecc825ab8094b39648cc9c46af7af1bae839928acb73b4dd/tensorflow-2.2.0-cp37-cp37m-manylinux2010_x86_64.whl (516.2MB)\n",
            "\u001b[K     |████████████████████████████████| 516.2MB 35kB/s \n",
            "\u001b[?25hRequirement already satisfied: h5py<2.11.0,>=2.10.0 in /usr/local/lib/python3.7/dist-packages (from tensorflow==2.2.0) (2.10.0)\n",
            "Requirement already satisfied: wheel>=0.26; python_version >= \"3\" in /usr/local/lib/python3.7/dist-packages (from tensorflow==2.2.0) (0.36.2)\n",
            "Requirement already satisfied: protobuf>=3.8.0 in /usr/local/lib/python3.7/dist-packages (from tensorflow==2.2.0) (3.12.4)\n",
            "Requirement already satisfied: astunparse==1.6.3 in /usr/local/lib/python3.7/dist-packages (from tensorflow==2.2.0) (1.6.3)\n",
            "Requirement already satisfied: termcolor>=1.1.0 in /usr/local/lib/python3.7/dist-packages (from tensorflow==2.2.0) (1.1.0)\n",
            "Collecting tensorboard<2.3.0,>=2.2.0\n",
            "\u001b[?25l  Downloading https://files.pythonhosted.org/packages/1d/74/0a6fcb206dcc72a6da9a62dd81784bfdbff5fedb099982861dc2219014fb/tensorboard-2.2.2-py3-none-any.whl (3.0MB)\n",
            "\u001b[K     |████████████████████████████████| 3.0MB 11.4MB/s \n",
            "\u001b[?25hRequirement already satisfied: wrapt>=1.11.1 in /usr/local/lib/python3.7/dist-packages (from tensorflow==2.2.0) (1.12.1)\n",
            "Requirement already satisfied: opt-einsum>=2.3.2 in /usr/local/lib/python3.7/dist-packages (from tensorflow==2.2.0) (3.3.0)\n",
            "Requirement already satisfied: numpy<2.0,>=1.16.0 in /usr/local/lib/python3.7/dist-packages (from tensorflow==2.2.0) (1.19.5)\n",
            "Requirement already satisfied: google-pasta>=0.1.8 in /usr/local/lib/python3.7/dist-packages (from tensorflow==2.2.0) (0.2.0)\n",
            "Requirement already satisfied: grpcio>=1.8.6 in /usr/local/lib/python3.7/dist-packages (from tensorflow==2.2.0) (1.32.0)\n",
            "Requirement already satisfied: absl-py>=0.7.0 in /usr/local/lib/python3.7/dist-packages (from tensorflow==2.2.0) (0.12.0)\n",
            "Requirement already satisfied: keras-preprocessing>=1.1.0 in /usr/local/lib/python3.7/dist-packages (from tensorflow==2.2.0) (1.1.2)\n",
            "Requirement already satisfied: six>=1.12.0 in /usr/local/lib/python3.7/dist-packages (from tensorflow==2.2.0) (1.15.0)\n",
            "Requirement already satisfied: gast==0.3.3 in /usr/local/lib/python3.7/dist-packages (from tensorflow==2.2.0) (0.3.3)\n",
            "Requirement already satisfied: scipy==1.4.1; python_version >= \"3\" in /usr/local/lib/python3.7/dist-packages (from tensorflow==2.2.0) (1.4.1)\n",
            "Collecting tensorflow-estimator<2.3.0,>=2.2.0\n",
            "\u001b[?25l  Downloading https://files.pythonhosted.org/packages/a4/f5/926ae53d6a226ec0fda5208e0e581cffed895ccc89e36ba76a8e60895b78/tensorflow_estimator-2.2.0-py2.py3-none-any.whl (454kB)\n",
            "\u001b[K     |████████████████████████████████| 460kB 42.8MB/s \n",
            "\u001b[?25hRequirement already satisfied: setuptools in /usr/local/lib/python3.7/dist-packages (from protobuf>=3.8.0->tensorflow==2.2.0) (56.1.0)\n",
            "Requirement already satisfied: markdown>=2.6.8 in /usr/local/lib/python3.7/dist-packages (from tensorboard<2.3.0,>=2.2.0->tensorflow==2.2.0) (3.3.4)\n",
            "Requirement already satisfied: werkzeug>=0.11.15 in /usr/local/lib/python3.7/dist-packages (from tensorboard<2.3.0,>=2.2.0->tensorflow==2.2.0) (2.0.0)\n",
            "Requirement already satisfied: requests<3,>=2.21.0 in /usr/local/lib/python3.7/dist-packages (from tensorboard<2.3.0,>=2.2.0->tensorflow==2.2.0) (2.23.0)\n",
            "Requirement already satisfied: google-auth-oauthlib<0.5,>=0.4.1 in /usr/local/lib/python3.7/dist-packages (from tensorboard<2.3.0,>=2.2.0->tensorflow==2.2.0) (0.4.4)\n",
            "Requirement already satisfied: tensorboard-plugin-wit>=1.6.0 in /usr/local/lib/python3.7/dist-packages (from tensorboard<2.3.0,>=2.2.0->tensorflow==2.2.0) (1.8.0)\n",
            "Requirement already satisfied: google-auth<2,>=1.6.3 in /usr/local/lib/python3.7/dist-packages (from tensorboard<2.3.0,>=2.2.0->tensorflow==2.2.0) (1.30.0)\n",
            "Requirement already satisfied: importlib-metadata; python_version < \"3.8\" in /usr/local/lib/python3.7/dist-packages (from markdown>=2.6.8->tensorboard<2.3.0,>=2.2.0->tensorflow==2.2.0) (4.0.1)\n",
            "Requirement already satisfied: idna<3,>=2.5 in /usr/local/lib/python3.7/dist-packages (from requests<3,>=2.21.0->tensorboard<2.3.0,>=2.2.0->tensorflow==2.2.0) (2.10)\n",
            "Requirement already satisfied: urllib3!=1.25.0,!=1.25.1,<1.26,>=1.21.1 in /usr/local/lib/python3.7/dist-packages (from requests<3,>=2.21.0->tensorboard<2.3.0,>=2.2.0->tensorflow==2.2.0) (1.24.3)\n",
            "Requirement already satisfied: chardet<4,>=3.0.2 in /usr/local/lib/python3.7/dist-packages (from requests<3,>=2.21.0->tensorboard<2.3.0,>=2.2.0->tensorflow==2.2.0) (3.0.4)\n",
            "Requirement already satisfied: certifi>=2017.4.17 in /usr/local/lib/python3.7/dist-packages (from requests<3,>=2.21.0->tensorboard<2.3.0,>=2.2.0->tensorflow==2.2.0) (2020.12.5)\n",
            "Requirement already satisfied: requests-oauthlib>=0.7.0 in /usr/local/lib/python3.7/dist-packages (from google-auth-oauthlib<0.5,>=0.4.1->tensorboard<2.3.0,>=2.2.0->tensorflow==2.2.0) (1.3.0)\n",
            "Requirement already satisfied: cachetools<5.0,>=2.0.0 in /usr/local/lib/python3.7/dist-packages (from google-auth<2,>=1.6.3->tensorboard<2.3.0,>=2.2.0->tensorflow==2.2.0) (4.2.2)\n",
            "Requirement already satisfied: pyasn1-modules>=0.2.1 in /usr/local/lib/python3.7/dist-packages (from google-auth<2,>=1.6.3->tensorboard<2.3.0,>=2.2.0->tensorflow==2.2.0) (0.2.8)\n",
            "Requirement already satisfied: rsa<5,>=3.1.4; python_version >= \"3.6\" in /usr/local/lib/python3.7/dist-packages (from google-auth<2,>=1.6.3->tensorboard<2.3.0,>=2.2.0->tensorflow==2.2.0) (4.7.2)\n",
            "Requirement already satisfied: typing-extensions>=3.6.4; python_version < \"3.8\" in /usr/local/lib/python3.7/dist-packages (from importlib-metadata; python_version < \"3.8\"->markdown>=2.6.8->tensorboard<2.3.0,>=2.2.0->tensorflow==2.2.0) (3.7.4.3)\n",
            "Requirement already satisfied: zipp>=0.5 in /usr/local/lib/python3.7/dist-packages (from importlib-metadata; python_version < \"3.8\"->markdown>=2.6.8->tensorboard<2.3.0,>=2.2.0->tensorflow==2.2.0) (3.4.1)\n",
            "Requirement already satisfied: oauthlib>=3.0.0 in /usr/local/lib/python3.7/dist-packages (from requests-oauthlib>=0.7.0->google-auth-oauthlib<0.5,>=0.4.1->tensorboard<2.3.0,>=2.2.0->tensorflow==2.2.0) (3.1.0)\n",
            "Requirement already satisfied: pyasn1<0.5.0,>=0.4.6 in /usr/local/lib/python3.7/dist-packages (from pyasn1-modules>=0.2.1->google-auth<2,>=1.6.3->tensorboard<2.3.0,>=2.2.0->tensorflow==2.2.0) (0.4.8)\n",
            "Installing collected packages: tensorboard, tensorflow-estimator, tensorflow\n",
            "  Found existing installation: tensorboard 2.4.1\n",
            "    Uninstalling tensorboard-2.4.1:\n",
            "      Successfully uninstalled tensorboard-2.4.1\n",
            "  Found existing installation: tensorflow-estimator 2.4.0\n",
            "    Uninstalling tensorflow-estimator-2.4.0:\n",
            "      Successfully uninstalled tensorflow-estimator-2.4.0\n",
            "  Found existing installation: tensorflow 2.4.1\n",
            "    Uninstalling tensorflow-2.4.1:\n",
            "      Successfully uninstalled tensorflow-2.4.1\n",
            "Successfully installed tensorboard-2.2.2 tensorflow-2.2.0 tensorflow-estimator-2.2.0\n"
          ],
          "name": "stdout"
        }
      ]
    },
    {
      "cell_type": "markdown",
      "metadata": {
        "id": "ImwUaPXDv3zC"
      },
      "source": [
        "**The above code section is from the template provided by the AI Challenge organiser.**"
      ]
    },
    {
      "cell_type": "markdown",
      "metadata": {
        "id": "VgPLOtHHvzYK"
      },
      "source": [
        "**The following code section is from the template provided by the AI Challenge organiser.**"
      ]
    },
    {
      "cell_type": "code",
      "metadata": {
        "id": "sbbWh-959k8g",
        "colab": {
          "base_uri": "https://localhost:8080/"
        },
        "outputId": "afc32713-61b3-4fae-f929-c2636921b246"
      },
      "source": [
        "import tensorflow as tf\n",
        "from tensorflow import keras\n",
        "import numpy as np\n",
        "import seaborn as sns\n",
        "import pandas as pd\n",
        "import matplotlib.pyplot as plt\n",
        "from sklearn.metrics import confusion_matrix, balanced_accuracy_score, accuracy_score, classification_report\n",
        "from tensorflow.keras import models, layers, optimizers\n",
        "from tensorflow.python.keras.saving import hdf5_format\n",
        "from keras.preprocessing.image import ImageDataGenerator, DirectoryIterator\n",
        "import h5py, itertools, collections\n",
        "import itertools\n",
        "\n",
        "##################\n",
        "# Verifications:\n",
        "#################\n",
        "print('GPU is used.' if len(tf.config.list_physical_devices('GPU')) > 0 else 'GPU is NOT used.')\n",
        "print(\"Tensorflow version: \" + tf.__version__)\n"
      ],
      "execution_count": null,
      "outputs": [
        {
          "output_type": "stream",
          "text": [
            "GPU is used.\n",
            "Tensorflow version: 2.5.0\n"
          ],
          "name": "stdout"
        }
      ]
    },
    {
      "cell_type": "markdown",
      "metadata": {
        "id": "QJpqmZYFUEWx"
      },
      "source": [
        "Now, please run the following cell to download the dataset that you will use to build your model."
      ]
    },
    {
      "cell_type": "markdown",
      "metadata": {
        "id": "qdKvr6o3vxsu"
      },
      "source": [
        "**The following code section is from the template provided by the AI Challenge organiser.**"
      ]
    },
    {
      "cell_type": "code",
      "metadata": {
        "id": "r62rx-yX97GE",
        "colab": {
          "base_uri": "https://localhost:8080/"
        },
        "outputId": "c1fb4308-2b9c-4377-aa60-152d333c7e13"
      },
      "source": [
        "# Download dataset:\n",
        "!wget http://206.12.93.90:8080/simpson_dataset/simpsons_train.tar.gz \n",
        "# Unzip the dataset:\n",
        "!tar -xzvf simpsons_train.tar.gz > /dev/null\n"
      ],
      "execution_count": null,
      "outputs": [
        {
          "output_type": "stream",
          "text": [
            "--2021-05-15 23:24:54--  http://206.12.93.90:8080/simpson_dataset/simpsons_train.tar.gz\n",
            "Connecting to 206.12.93.90:8080... connected.\n",
            "HTTP request sent, awaiting response... 200 \n",
            "Length: 488194922 (466M) [application/x-gzip]\n",
            "Saving to: ‘simpsons_train.tar.gz’\n",
            "\n",
            "simpsons_train.tar. 100%[===================>] 465.58M   148MB/s    in 3.3s    \n",
            "\n",
            "2021-05-15 23:24:57 (142 MB/s) - ‘simpsons_train.tar.gz’ saved [488194922/488194922]\n",
            "\n"
          ],
          "name": "stdout"
        }
      ]
    },
    {
      "cell_type": "markdown",
      "metadata": {
        "id": "f-84wHvvD-Ot"
      },
      "source": [
        "**The following code section is from the template provided by the AI Challenge organiser.**\n",
        "\n",
        "**Changes were made to:**\n",
        "\n",
        "**- image size**\n",
        "\n",
        "**- batch size**\n",
        "\n",
        "**An imageDataGenerator was added to feed augmented images into the model for data augmentation.**\n",
        "\n",
        "*   List item\n",
        "*   List item\n",
        "\n"
      ]
    },
    {
      "cell_type": "code",
      "metadata": {
        "id": "DpgROocq9k8k",
        "colab": {
          "base_uri": "https://localhost:8080/"
        },
        "outputId": "acea369a-237f-49fd-fb02-3a0ca7115800"
      },
      "source": [
        "'''\n",
        "    Split train and validation.\n",
        "'''\n",
        "# We define the size of input images to 128x128 pixels.\n",
        "image_size = (224, 224)\n",
        "# We define the batch size\n",
        "batch_size = 128\n",
        "\n",
        "# Create an image generator with a fraction of images reserved for validation:\n",
        "image_generator = ImageDataGenerator(validation_split=0.1)\n",
        "\n",
        "# Now, we create a training data iterator by creating batchs of images of the same size as \n",
        "# defined previously, i.e., each image is resized in a 64x64 pixels format.\n",
        "train_ds =  DirectoryIterator(\n",
        "    \"dataset/simpsons_train/\",\n",
        "    image_generator,\n",
        "    class_mode='categorical',\n",
        "    seed=1337,\n",
        "    target_size=image_size,\n",
        "    batch_size=batch_size,\n",
        "    subset = 'training',\n",
        ")\n",
        "\n",
        "# Similarly, we create a validation data iterator by creating batchs of images of the same size as \n",
        "# defined previously, i.e., each image is resized in a 64x64 pixels format.\n",
        "val_ds = DirectoryIterator(\n",
        "    \"dataset/simpsons_train/\",\n",
        "    image_generator,\n",
        "    class_mode='categorical',\n",
        "    seed=1337,\n",
        "    target_size=image_size,\n",
        "    batch_size=batch_size,\n",
        "    subset = 'validation',\n",
        "    shuffle=False\n",
        ")\n",
        "\n",
        "# We save the list of classes (labels).\n",
        "class_names = list(train_ds.class_indices.keys())\n",
        "\n",
        "# We also save the number of labels.\n",
        "num_classes = train_ds.num_classes\n"
      ],
      "execution_count": null,
      "outputs": [
        {
          "output_type": "stream",
          "text": [
            "Found 17603 images belonging to 20 classes.\n",
            "Found 1945 images belonging to 20 classes.\n"
          ],
          "name": "stdout"
        }
      ]
    },
    {
      "cell_type": "markdown",
      "metadata": {
        "id": "p3KeymU-UEWy"
      },
      "source": [
        "# Exploring the data\n",
        "\n",
        "Now, we do data exploration to show you samples of the images and their labels and some statistics to help you in understanding the data."
      ]
    },
    {
      "cell_type": "markdown",
      "metadata": {
        "id": "tKsqI7soUEWy"
      },
      "source": [
        "# Designing the model\n",
        "\n",
        "\n",
        "We now design the architecture for the task. The artchitecture below consists of:\n",
        "1. `Rescaling layer:` whose role is to normalize the input data to values between 0 and 1. This will help in speed up the training process.\n",
        "2. `Flatten layer:` whose role is to flatten the 3D volume.\n",
        "3. `Dense layers`: one dense layer followed by a classification layer with a softmax activation function.\n",
        "\n",
        "Please note that you will have to design your own model if you want to beat the baseline and be at the top of the leaderboard!"
      ]
    },
    {
      "cell_type": "code",
      "metadata": {
        "id": "AMf3WuqQuDb0",
        "colab": {
          "base_uri": "https://localhost:8080/"
        },
        "outputId": "6ce4714d-5cc7-4a7a-c3c2-636f7c0be99f"
      },
      "source": [
        "# CONVOLUTIONAL PRETRAINED BASE\n",
        "\n",
        "conv_base = tf.keras.applications.DenseNet201(weights='imagenet', include_top=False)\n"
      ],
      "execution_count": null,
      "outputs": [
        {
          "output_type": "stream",
          "text": [
            "Downloading data from https://storage.googleapis.com/tensorflow/keras-applications/densenet/densenet201_weights_tf_dim_ordering_tf_kernels_notop.h5\n",
            "74842112/74836368 [==============================] - 1s 0us/step\n"
          ],
          "name": "stdout"
        }
      ]
    },
    {
      "cell_type": "code",
      "metadata": {
        "colab": {
          "base_uri": "https://localhost:8080/"
        },
        "id": "Utdja0EIC-By",
        "outputId": "82175515-1e7f-494d-93fe-85d3b09dfcc4"
      },
      "source": [
        "from google.colab import drive\n",
        "drive.mount('/content/gdrive')"
      ],
      "execution_count": null,
      "outputs": [
        {
          "output_type": "stream",
          "text": [
            "Mounted at /content/gdrive\n"
          ],
          "name": "stdout"
        }
      ]
    },
    {
      "cell_type": "code",
      "metadata": {
        "id": "uQsDk9WnJ_ef"
      },
      "source": [
        "## LOAD PREVIOUS MODELS READY TO COMBINE"
      ],
      "execution_count": null,
      "outputs": []
    },
    {
      "cell_type": "code",
      "metadata": {
        "id": "Tmn7TyDq0lQs"
      },
      "source": [
        "# Reload Model 1\n",
        "\n",
        "model_load_name = \"ddnsnetAllAug_bch_0.99383a\"\n",
        "filepath = F\"/content/gdrive/My Drive/{model_load_name}\"\n",
        "model_reload1 = keras.models.load_model(filepath)\n"
      ],
      "execution_count": null,
      "outputs": []
    },
    {
      "cell_type": "code",
      "metadata": {
        "id": "MtiE-P2Iwji0"
      },
      "source": [
        "results = model_reload1.evaluate(val_ds)"
      ],
      "execution_count": null,
      "outputs": []
    },
    {
      "cell_type": "code",
      "metadata": {
        "id": "OENbDIhSwg3w"
      },
      "source": [
        "# Reload Model 2\n",
        "\n",
        "model_load_name = \"dnsnetaugSubt_0.99280\"\n",
        "filepath = F\"/content/gdrive/My Drive/{model_load_name}\"\n",
        "model_reload2 = keras.models.load_model(filepath)\n"
      ],
      "execution_count": null,
      "outputs": []
    },
    {
      "cell_type": "code",
      "metadata": {
        "id": "uowVNdbTB2tY"
      },
      "source": [
        "results = model_reload2.evaluate(val_ds)"
      ],
      "execution_count": null,
      "outputs": []
    },
    {
      "cell_type": "code",
      "metadata": {
        "id": "Fy1EL-msQW-X",
        "colab": {
          "base_uri": "https://localhost:8080/"
        },
        "outputId": "8f260e40-f8d6-4d30-8ef1-65019e25224e"
      },
      "source": [
        "model_reload1.summary()"
      ],
      "execution_count": null,
      "outputs": [
        {
          "output_type": "stream",
          "text": [
            "Model: \"model\"\n",
            "_________________________________________________________________\n",
            "Layer (type)                 Output Shape              Param #   \n",
            "=================================================================\n",
            "input_2 (InputLayer)         [(None, 224, 224, 3)]     0         \n",
            "_________________________________________________________________\n",
            "densenet201 (Model)          multiple                  18321984  \n",
            "_________________________________________________________________\n",
            "global_average_pooling2d (Gl (None, 1920)              0         \n",
            "_________________________________________________________________\n",
            "dense (Dense)                (None, 1024)              1967104   \n",
            "_________________________________________________________________\n",
            "dropout (Dropout)            (None, 1024)              0         \n",
            "_________________________________________________________________\n",
            "dense_1 (Dense)              (None, 20)                20500     \n",
            "_________________________________________________________________\n",
            "activation (Activation)      (None, 20)                0         \n",
            "=================================================================\n",
            "Total params: 20,309,588\n",
            "Trainable params: 20,080,532\n",
            "Non-trainable params: 229,056\n",
            "_________________________________________________________________\n"
          ],
          "name": "stdout"
        }
      ]
    },
    {
      "cell_type": "code",
      "metadata": {
        "id": "Y7j4Qs_htIeC"
      },
      "source": [
        "ens_1_model = model_reload1\n",
        "\n",
        "\n",
        "ens_2_model = model_reload2\n",
        "\n",
        "#ens_6_model = model_reload6\n",
        "#models_lst=[ens_1_model,ens_1b_model,ens_1c_model,ens_1d_model,ens_1e_model,ens_1f_model,ens_2_model,ens_3_model] \n",
        "#amodels_lst=[ens_1_model,ens_1b_model,ens_1d_model,ens_1e_model] \n",
        "#bmodels_lst=[ens_1_model,ens_1b_model,ens_2_model,ens_3_model] \n",
        "\n",
        "models_lst=[ens_1_model,ens_2_model] \n",
        "\n",
        "#dmodels_lst=[ens_1_model,ens_1b_model,ens_3_model]"
      ],
      "execution_count": null,
      "outputs": []
    },
    {
      "cell_type": "code",
      "metadata": {
        "id": "2CB6w9WzRXZ6"
      },
      "source": [
        "ens_1_model.summary()\n",
        "ens_2_model.summary()\n",
        "\n",
        "\n"
      ],
      "execution_count": null,
      "outputs": []
    },
    {
      "cell_type": "code",
      "metadata": {
        "id": "owp1G6ke0ydH"
      },
      "source": [
        "#Remove softmax activation layer\n",
        "def remove_softmax(m_list):\n",
        "  new_model_lst=[]\n",
        "  for model in m_list:\n",
        "    new_mod=keras.Sequential()\n",
        "    for layer in model.layers[:-1]:\n",
        "      new_mod.add(layer)\n",
        "    new_model_lst.append(new_mod)\n",
        "  return new_model_lst\n",
        "\n",
        "models_lst = remove_softmax(models_lst)\n"
      ],
      "execution_count": null,
      "outputs": []
    },
    {
      "cell_type": "code",
      "metadata": {
        "colab": {
          "base_uri": "https://localhost:8080/"
        },
        "id": "tdYyLA8QUgxJ",
        "outputId": "568dc15a-e686-4b49-fc67-3629874dc604"
      },
      "source": [
        "from keras.models import Input\n",
        "from keras import Model\n",
        "\n",
        "\n",
        "def Create_ensemble(models, model_input):\n",
        "    # list combining model outputs\n",
        "    xx=[model(model_input) for model in models] \n",
        "    # averaging the model outputs\n",
        "    avragelyr=layers.average(xx) \n",
        "    # add softmax\n",
        "    sftmx=layers.Activation(activation='softmax')(avragelyr)\n",
        "    # build model from same input and avg output\n",
        "    modelEns = Model(inputs=model_input, outputs=sftmx,    name='ensemble')  \n",
        "   \n",
        "    return modelEns\n",
        "#models_lst = [ens_1_model,ens_2_model,ens_3_model,ens_4_model,ens_5_model]\n",
        "ens_input = Input(shape=ens_1_model.input_shape[1:])\n",
        "new_ens_model = Create_ensemble(models_lst, ens_input)\n",
        "new_ens_model.summary()\n"
      ],
      "execution_count": null,
      "outputs": [
        {
          "output_type": "stream",
          "text": [
            "Model: \"ensemble\"\n",
            "__________________________________________________________________________________________________\n",
            "Layer (type)                    Output Shape         Param #     Connected to                     \n",
            "==================================================================================================\n",
            "input_2 (InputLayer)            [(None, 224, 224, 3) 0                                            \n",
            "__________________________________________________________________________________________________\n",
            "sequential (Sequential)         (None, 20)           20309588    input_2[0][0]                    \n",
            "__________________________________________________________________________________________________\n",
            "sequential_1 (Sequential)       (None, 20)           20309588    input_2[0][0]                    \n",
            "__________________________________________________________________________________________________\n",
            "average (Average)               (None, 20)           0           sequential[1][0]                 \n",
            "                                                                 sequential_1[1][0]               \n",
            "__________________________________________________________________________________________________\n",
            "activation (Activation)         (None, 20)           0           average[0][0]                    \n",
            "==================================================================================================\n",
            "Total params: 40,619,176\n",
            "Trainable params: 40,161,064\n",
            "Non-trainable params: 458,112\n",
            "__________________________________________________________________________________________________\n"
          ],
          "name": "stdout"
        }
      ]
    },
    {
      "cell_type": "code",
      "metadata": {
        "id": "tYTOPZhAVQ0I"
      },
      "source": [
        "new_ens_model.compile(optimizer=optimizers.RMSprop(lr=0.00001),\n",
        "              loss='CategoricalCrossentropy',\n",
        "              metrics=['accuracy'])"
      ],
      "execution_count": null,
      "outputs": []
    },
    {
      "cell_type": "code",
      "metadata": {
        "id": "-iOcUIF3VJSW"
      },
      "source": [
        "results = new_ens_model.evaluate(val_ds)\n"
      ],
      "execution_count": null,
      "outputs": []
    },
    {
      "cell_type": "code",
      "metadata": {
        "id": "wclqNP-B8gMP"
      },
      "source": [
        ""
      ],
      "execution_count": null,
      "outputs": []
    },
    {
      "cell_type": "code",
      "metadata": {
        "id": "NUnmwVB7Ekyt"
      },
      "source": [
        "print(results[-1])\n",
        "valdn_acc = results[-1]"
      ],
      "execution_count": null,
      "outputs": []
    },
    {
      "cell_type": "code",
      "metadata": {
        "id": "mtBhbvbr8bHF"
      },
      "source": [
        "with h5py.File('/content/gdrive/My Drive/'+\"EnsModel_1band3_\"+\"{:.7f}\".format(valdn_acc)+ '_model.h5', mode='w') as f:\n",
        "    hdf5_format.save_model_to_hdf5(new_ens_model, f)\n",
        "    f.attrs['class_names'] = class_names\n",
        "    f.attrs['image_size'] = image_size"
      ],
      "execution_count": null,
      "outputs": []
    }
  ]
}